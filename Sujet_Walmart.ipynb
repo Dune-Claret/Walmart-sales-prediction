{
 "cells": [
  {
   "cell_type": "markdown",
   "metadata": {
    "colab_type": "text",
    "id": "Z2HgpBgihAPs"
   },
   "source": [
    "<H1>Prédiction des ventes chez Walmart </H1>\n"
   ]
  },
  {
   "cell_type": "markdown",
   "metadata": {
    "colab_type": "text",
    "id": "rSFxoq_BcR4b"
   },
   "source": [
    "Le problème considéré ici est bâti à partir d'une compétion Kaggle, https://www.kaggle.com/c/walmart-recruiting-store-sales-forecasting\n",
    "où il s'agissait de prévoir les ventes dans les différents départements des 45 magasins Walmart des Etats-Unis. \n",
    "Le problème a été simplifié ici en regroupant les ventes des différents départements pour ne s'intéresser qu'aux ventes globales des magasins, et en supprimant les données relatives aux campagnes publicitaires. \n",
    "\n",
    "Votre objectif sera donc de prédire les ventes des différents magasins, à partir d'un historique sur 3 années comprenant :\n",
    "\n",
    "- fichier data.csv\n",
    "    - 'Store':  numéro du magasin\n",
    "    - 'Date' : date (semaine considérée)\n",
    "    - 'Weekly_Sales' : ventes de la semaine (en \\$)\n",
    "    - 'Temperature' : température (en K)\n",
    "    - 'Fuel_Price' : prix du carburant (en \\$)\n",
    "    - 'CPI' : [Consumer Price Index](https://www.bls.gov/cpi/)\n",
    "    - 'Unemployment' : taux de chomage\n",
    "    - 'IsHoliday' : période de vacances (Vrai/faux)\n",
    "\n",
    "- fichier stores.csv\n",
    "    - 'Store' : numéro du magasin\n",
    "    - 'Type' : type de magasin\n",
    "    - 'Size' : surface"
   ]
  },
  {
   "cell_type": "code",
   "execution_count": 1,
   "metadata": {
    "ExecuteTime": {
     "end_time": "2020-05-13T12:58:10.893040Z",
     "start_time": "2020-05-13T12:58:08.564717Z"
    },
    "colab": {},
    "colab_type": "code",
    "id": "SQMmb18_dW5_"
   },
   "outputs": [],
   "source": [
    "import pandas as pd \n",
    "import seaborn as sns\n",
    "import numpy as np\n",
    "import matplotlib.pyplot as plt\n",
    "SEED = 111"
   ]
  },
  {
   "cell_type": "markdown",
   "metadata": {
    "colab_type": "text",
    "id": "j26cCfXHqWuV"
   },
   "source": [
    "## 1 - Lecture des fichiers"
   ]
  },
  {
   "cell_type": "markdown",
   "metadata": {
    "colab_type": "text",
    "id": "l4rVN1zrd3sz"
   },
   "source": [
    "Importer les fichiers `data.csv`  et `stores.csv`  dans des variables de même nom\n",
    "\n"
   ]
  },
  {
   "cell_type": "code",
   "execution_count": 3,
   "metadata": {
    "ExecuteTime": {
     "end_time": "2020-05-13T13:01:00.736650Z",
     "start_time": "2020-05-13T13:01:00.712897Z"
    },
    "colab": {},
    "colab_type": "code",
    "id": "85FBA-wOeLh5"
   },
   "outputs": [],
   "source": [
    "data = pd.read_csv(\"data.csv\")\n",
    "stores = pd.read_csv(\"stores.csv\")"
   ]
  },
  {
   "cell_type": "markdown",
   "metadata": {
    "colab_type": "text",
    "id": "RX6ffocceazh"
   },
   "source": [
    "> 1.1 Combien d'exemples contient `data`  ? Combien de magasins sont-ils répertoriés dans stores ?"
   ]
  },
  {
   "cell_type": "code",
   "execution_count": 4,
   "metadata": {
    "ExecuteTime": {
     "end_time": "2020-05-13T13:01:06.254837Z",
     "start_time": "2020-05-13T13:01:06.233550Z"
    },
    "scrolled": false
   },
   "outputs": [
    {
     "data": {
      "text/html": [
       "<div>\n",
       "<style scoped>\n",
       "    .dataframe tbody tr th:only-of-type {\n",
       "        vertical-align: middle;\n",
       "    }\n",
       "\n",
       "    .dataframe tbody tr th {\n",
       "        vertical-align: top;\n",
       "    }\n",
       "\n",
       "    .dataframe thead th {\n",
       "        text-align: right;\n",
       "    }\n",
       "</style>\n",
       "<table border=\"1\" class=\"dataframe\">\n",
       "  <thead>\n",
       "    <tr style=\"text-align: right;\">\n",
       "      <th></th>\n",
       "      <th>Store</th>\n",
       "      <th>Date</th>\n",
       "      <th>Weekly_Sales</th>\n",
       "      <th>Temperature</th>\n",
       "      <th>Fuel_Price</th>\n",
       "      <th>CPI</th>\n",
       "      <th>Unemployment</th>\n",
       "      <th>IsHoliday</th>\n",
       "    </tr>\n",
       "  </thead>\n",
       "  <tbody>\n",
       "    <tr>\n",
       "      <th>0</th>\n",
       "      <td>1</td>\n",
       "      <td>2010-02-05</td>\n",
       "      <td>1643690.90</td>\n",
       "      <td>42.31</td>\n",
       "      <td>2.572</td>\n",
       "      <td>211.096358</td>\n",
       "      <td>8.106</td>\n",
       "      <td>False</td>\n",
       "    </tr>\n",
       "    <tr>\n",
       "      <th>1</th>\n",
       "      <td>1</td>\n",
       "      <td>2010-02-12</td>\n",
       "      <td>1641957.44</td>\n",
       "      <td>38.51</td>\n",
       "      <td>2.548</td>\n",
       "      <td>211.242170</td>\n",
       "      <td>8.106</td>\n",
       "      <td>True</td>\n",
       "    </tr>\n",
       "    <tr>\n",
       "      <th>2</th>\n",
       "      <td>1</td>\n",
       "      <td>2010-02-19</td>\n",
       "      <td>1611968.17</td>\n",
       "      <td>39.93</td>\n",
       "      <td>2.514</td>\n",
       "      <td>211.289143</td>\n",
       "      <td>8.106</td>\n",
       "      <td>False</td>\n",
       "    </tr>\n",
       "    <tr>\n",
       "      <th>3</th>\n",
       "      <td>1</td>\n",
       "      <td>2010-02-26</td>\n",
       "      <td>1409727.59</td>\n",
       "      <td>46.63</td>\n",
       "      <td>2.561</td>\n",
       "      <td>211.319643</td>\n",
       "      <td>8.106</td>\n",
       "      <td>False</td>\n",
       "    </tr>\n",
       "    <tr>\n",
       "      <th>4</th>\n",
       "      <td>1</td>\n",
       "      <td>2010-03-05</td>\n",
       "      <td>1554806.68</td>\n",
       "      <td>46.50</td>\n",
       "      <td>2.625</td>\n",
       "      <td>211.350143</td>\n",
       "      <td>8.106</td>\n",
       "      <td>False</td>\n",
       "    </tr>\n",
       "  </tbody>\n",
       "</table>\n",
       "</div>"
      ],
      "text/plain": [
       "   Store        Date  Weekly_Sales  Temperature  Fuel_Price         CPI  \\\n",
       "0      1  2010-02-05    1643690.90        42.31       2.572  211.096358   \n",
       "1      1  2010-02-12    1641957.44        38.51       2.548  211.242170   \n",
       "2      1  2010-02-19    1611968.17        39.93       2.514  211.289143   \n",
       "3      1  2010-02-26    1409727.59        46.63       2.561  211.319643   \n",
       "4      1  2010-03-05    1554806.68        46.50       2.625  211.350143   \n",
       "\n",
       "   Unemployment  IsHoliday  \n",
       "0         8.106      False  \n",
       "1         8.106       True  \n",
       "2         8.106      False  \n",
       "3         8.106      False  \n",
       "4         8.106      False  "
      ]
     },
     "execution_count": 4,
     "metadata": {},
     "output_type": "execute_result"
    }
   ],
   "source": [
    "data.head()"
   ]
  },
  {
   "cell_type": "code",
   "execution_count": 5,
   "metadata": {
    "ExecuteTime": {
     "end_time": "2020-05-13T13:01:20.358921Z",
     "start_time": "2020-05-13T13:01:20.337644Z"
    },
    "scrolled": true
   },
   "outputs": [
    {
     "data": {
      "text/html": [
       "<div>\n",
       "<style scoped>\n",
       "    .dataframe tbody tr th:only-of-type {\n",
       "        vertical-align: middle;\n",
       "    }\n",
       "\n",
       "    .dataframe tbody tr th {\n",
       "        vertical-align: top;\n",
       "    }\n",
       "\n",
       "    .dataframe thead th {\n",
       "        text-align: right;\n",
       "    }\n",
       "</style>\n",
       "<table border=\"1\" class=\"dataframe\">\n",
       "  <thead>\n",
       "    <tr style=\"text-align: right;\">\n",
       "      <th></th>\n",
       "      <th>Store</th>\n",
       "      <th>Type</th>\n",
       "      <th>Size</th>\n",
       "    </tr>\n",
       "  </thead>\n",
       "  <tbody>\n",
       "    <tr>\n",
       "      <th>0</th>\n",
       "      <td>1</td>\n",
       "      <td>A</td>\n",
       "      <td>151315</td>\n",
       "    </tr>\n",
       "    <tr>\n",
       "      <th>1</th>\n",
       "      <td>2</td>\n",
       "      <td>A</td>\n",
       "      <td>202307</td>\n",
       "    </tr>\n",
       "    <tr>\n",
       "      <th>2</th>\n",
       "      <td>3</td>\n",
       "      <td>B</td>\n",
       "      <td>37392</td>\n",
       "    </tr>\n",
       "    <tr>\n",
       "      <th>3</th>\n",
       "      <td>4</td>\n",
       "      <td>A</td>\n",
       "      <td>205863</td>\n",
       "    </tr>\n",
       "    <tr>\n",
       "      <th>4</th>\n",
       "      <td>5</td>\n",
       "      <td>B</td>\n",
       "      <td>34875</td>\n",
       "    </tr>\n",
       "  </tbody>\n",
       "</table>\n",
       "</div>"
      ],
      "text/plain": [
       "   Store Type    Size\n",
       "0      1    A  151315\n",
       "1      2    A  202307\n",
       "2      3    B   37392\n",
       "3      4    A  205863\n",
       "4      5    B   34875"
      ]
     },
     "execution_count": 5,
     "metadata": {},
     "output_type": "execute_result"
    }
   ],
   "source": [
    "stores.head()"
   ]
  },
  {
   "cell_type": "markdown",
   "metadata": {
    "colab": {},
    "colab_type": "code",
    "id": "ffMnhkLAeocI"
   },
   "source": [
    "En affichant les premières lignes des 2 fichiers nous voyons que le fichier data.csv contient plusieurs occurrences de chaque magasin (plusieurs lignes pour 1 même magasin) alors que le fichier store.csv contient une occurrence de chaque magasin (une ligne = un magasin)."
   ]
  },
  {
   "cell_type": "code",
   "execution_count": 7,
   "metadata": {
    "ExecuteTime": {
     "end_time": "2020-05-13T13:03:19.799195Z",
     "start_time": "2020-05-13T13:03:19.788920Z"
    },
    "colab": {},
    "colab_type": "code",
    "id": "PLOJmlalg1En"
   },
   "outputs": [
    {
     "data": {
      "text/plain": [
       "45"
      ]
     },
     "execution_count": 7,
     "metadata": {},
     "output_type": "execute_result"
    }
   ],
   "source": [
    "data[\"Store\"].nunique() # nombre d'éléments uniques"
   ]
  },
  {
   "cell_type": "code",
   "execution_count": 10,
   "metadata": {
    "ExecuteTime": {
     "end_time": "2020-05-13T13:06:19.530967Z",
     "start_time": "2020-05-13T13:06:19.522430Z"
    }
   },
   "outputs": [
    {
     "data": {
      "text/plain": [
       "45"
      ]
     },
     "execution_count": 10,
     "metadata": {},
     "output_type": "execute_result"
    }
   ],
   "source": [
    "stores.shape[0] # nombre de lignes = nombre de magasins"
   ]
  },
  {
   "cell_type": "markdown",
   "metadata": {
    "colab_type": "text",
    "id": "xUrBvCeGic84"
   },
   "source": [
    "> 1.2 Quelle était la température la semaine du '2012-09-28' pour le magasin n°21 ? (Question non bloquante - si vous n'y arrivez pas, passez)"
   ]
  },
  {
   "cell_type": "markdown",
   "metadata": {
    "colab": {},
    "colab_type": "code",
    "id": "cgQfOUpLie_B"
   },
   "source": [
    "Une telle donnée se trouve dans le fichier data.csv et nous devons croiser deux conditions."
   ]
  },
  {
   "cell_type": "code",
   "execution_count": 13,
   "metadata": {
    "ExecuteTime": {
     "end_time": "2020-05-13T13:08:27.163662Z",
     "start_time": "2020-05-13T13:08:27.136875Z"
    }
   },
   "outputs": [
    {
     "name": "stderr",
     "output_type": "stream",
     "text": [
      "/Users/macbook/anaconda3/lib/python3.7/site-packages/ipykernel_launcher.py:1: UserWarning: Boolean Series key will be reindexed to match DataFrame index.\n",
      "  \"\"\"Entry point for launching an IPython kernel.\n"
     ]
    },
    {
     "data": {
      "text/html": [
       "<div>\n",
       "<style scoped>\n",
       "    .dataframe tbody tr th:only-of-type {\n",
       "        vertical-align: middle;\n",
       "    }\n",
       "\n",
       "    .dataframe tbody tr th {\n",
       "        vertical-align: top;\n",
       "    }\n",
       "\n",
       "    .dataframe thead th {\n",
       "        text-align: right;\n",
       "    }\n",
       "</style>\n",
       "<table border=\"1\" class=\"dataframe\">\n",
       "  <thead>\n",
       "    <tr style=\"text-align: right;\">\n",
       "      <th></th>\n",
       "      <th>Store</th>\n",
       "      <th>Date</th>\n",
       "      <th>Weekly_Sales</th>\n",
       "      <th>Temperature</th>\n",
       "      <th>Fuel_Price</th>\n",
       "      <th>CPI</th>\n",
       "      <th>Unemployment</th>\n",
       "      <th>IsHoliday</th>\n",
       "    </tr>\n",
       "  </thead>\n",
       "  <tbody>\n",
       "    <tr>\n",
       "      <th>2998</th>\n",
       "      <td>21</td>\n",
       "      <td>2012-09-28</td>\n",
       "      <td>647097.65</td>\n",
       "      <td>80.38</td>\n",
       "      <td>3.666</td>\n",
       "      <td>222.616433</td>\n",
       "      <td>6.565</td>\n",
       "      <td>False</td>\n",
       "    </tr>\n",
       "  </tbody>\n",
       "</table>\n",
       "</div>"
      ],
      "text/plain": [
       "      Store        Date  Weekly_Sales  Temperature  Fuel_Price         CPI  \\\n",
       "2998     21  2012-09-28     647097.65        80.38       3.666  222.616433   \n",
       "\n",
       "      Unemployment  IsHoliday  \n",
       "2998         6.565      False  "
      ]
     },
     "execution_count": 13,
     "metadata": {},
     "output_type": "execute_result"
    }
   ],
   "source": [
    "data[data[\"Date\"]=='2012-09-28'][data[\"Store\"]==21]"
   ]
  },
  {
   "cell_type": "markdown",
   "metadata": {
    "colab_type": "text",
    "id": "in9jzPuoqczr"
   },
   "source": [
    "## 2 - Combinaison des données\n"
   ]
  },
  {
   "cell_type": "markdown",
   "metadata": {
    "colab_type": "text",
    "id": "YZ2cLHNmjLHz"
   },
   "source": [
    "On dispose donc à la fois d'une table `data` qui contient les ventes hebdomadaires et les conditions particulières pour les magasins, et d'une table `stores` qui contient des caractéristiques des magasins. \n",
    "\n",
    ">2.1 On souhaite alors combiner ces deux tables en une nouvelle table qui contiendra l'ensemble des données. Quelle fonction utiliser pour cela  : pd.merge, pd.concat, pd.append ? "
   ]
  },
  {
   "cell_type": "markdown",
   "metadata": {},
   "source": [
    "Nous utilisons merge (fonction pandas qui permet de combiner nos deux dataframe sur un critère de jointure choisi ici une colonne en commun) et nous combinons les deux fichiers sur la colonne Store :"
   ]
  },
  {
   "cell_type": "markdown",
   "metadata": {
    "colab_type": "text",
    "id": "BW7-L6mAkiej"
   },
   "source": [
    "> 2.2 Effectuez cette opération de regroupement, et nommez `df` le tableau résultant. \n",
    "\n",
    "> Si vous n'y arriviez pas, chargez le fichier `df.csv` "
   ]
  },
  {
   "cell_type": "code",
   "execution_count": 14,
   "metadata": {
    "ExecuteTime": {
     "end_time": "2020-05-13T13:13:45.597291Z",
     "start_time": "2020-05-13T13:13:45.570534Z"
    }
   },
   "outputs": [],
   "source": [
    "df = pd.merge(data, stores, on = \"Store\")"
   ]
  },
  {
   "cell_type": "code",
   "execution_count": 15,
   "metadata": {
    "ExecuteTime": {
     "end_time": "2020-05-13T13:13:49.995782Z",
     "start_time": "2020-05-13T13:13:49.976779Z"
    },
    "colab": {},
    "colab_type": "code",
    "id": "Axp5zC9fkh5B"
   },
   "outputs": [
    {
     "data": {
      "text/html": [
       "<div>\n",
       "<style scoped>\n",
       "    .dataframe tbody tr th:only-of-type {\n",
       "        vertical-align: middle;\n",
       "    }\n",
       "\n",
       "    .dataframe tbody tr th {\n",
       "        vertical-align: top;\n",
       "    }\n",
       "\n",
       "    .dataframe thead th {\n",
       "        text-align: right;\n",
       "    }\n",
       "</style>\n",
       "<table border=\"1\" class=\"dataframe\">\n",
       "  <thead>\n",
       "    <tr style=\"text-align: right;\">\n",
       "      <th></th>\n",
       "      <th>Store</th>\n",
       "      <th>Date</th>\n",
       "      <th>Weekly_Sales</th>\n",
       "      <th>Temperature</th>\n",
       "      <th>Fuel_Price</th>\n",
       "      <th>CPI</th>\n",
       "      <th>Unemployment</th>\n",
       "      <th>IsHoliday</th>\n",
       "      <th>Type</th>\n",
       "      <th>Size</th>\n",
       "    </tr>\n",
       "  </thead>\n",
       "  <tbody>\n",
       "    <tr>\n",
       "      <th>0</th>\n",
       "      <td>1</td>\n",
       "      <td>2010-02-05</td>\n",
       "      <td>1643690.90</td>\n",
       "      <td>42.31</td>\n",
       "      <td>2.572</td>\n",
       "      <td>211.096358</td>\n",
       "      <td>8.106</td>\n",
       "      <td>False</td>\n",
       "      <td>A</td>\n",
       "      <td>151315</td>\n",
       "    </tr>\n",
       "    <tr>\n",
       "      <th>1</th>\n",
       "      <td>1</td>\n",
       "      <td>2010-02-12</td>\n",
       "      <td>1641957.44</td>\n",
       "      <td>38.51</td>\n",
       "      <td>2.548</td>\n",
       "      <td>211.242170</td>\n",
       "      <td>8.106</td>\n",
       "      <td>True</td>\n",
       "      <td>A</td>\n",
       "      <td>151315</td>\n",
       "    </tr>\n",
       "    <tr>\n",
       "      <th>2</th>\n",
       "      <td>1</td>\n",
       "      <td>2010-02-19</td>\n",
       "      <td>1611968.17</td>\n",
       "      <td>39.93</td>\n",
       "      <td>2.514</td>\n",
       "      <td>211.289143</td>\n",
       "      <td>8.106</td>\n",
       "      <td>False</td>\n",
       "      <td>A</td>\n",
       "      <td>151315</td>\n",
       "    </tr>\n",
       "    <tr>\n",
       "      <th>3</th>\n",
       "      <td>1</td>\n",
       "      <td>2010-02-26</td>\n",
       "      <td>1409727.59</td>\n",
       "      <td>46.63</td>\n",
       "      <td>2.561</td>\n",
       "      <td>211.319643</td>\n",
       "      <td>8.106</td>\n",
       "      <td>False</td>\n",
       "      <td>A</td>\n",
       "      <td>151315</td>\n",
       "    </tr>\n",
       "    <tr>\n",
       "      <th>4</th>\n",
       "      <td>1</td>\n",
       "      <td>2010-03-05</td>\n",
       "      <td>1554806.68</td>\n",
       "      <td>46.50</td>\n",
       "      <td>2.625</td>\n",
       "      <td>211.350143</td>\n",
       "      <td>8.106</td>\n",
       "      <td>False</td>\n",
       "      <td>A</td>\n",
       "      <td>151315</td>\n",
       "    </tr>\n",
       "  </tbody>\n",
       "</table>\n",
       "</div>"
      ],
      "text/plain": [
       "   Store        Date  Weekly_Sales  Temperature  Fuel_Price         CPI  \\\n",
       "0      1  2010-02-05    1643690.90        42.31       2.572  211.096358   \n",
       "1      1  2010-02-12    1641957.44        38.51       2.548  211.242170   \n",
       "2      1  2010-02-19    1611968.17        39.93       2.514  211.289143   \n",
       "3      1  2010-02-26    1409727.59        46.63       2.561  211.319643   \n",
       "4      1  2010-03-05    1554806.68        46.50       2.625  211.350143   \n",
       "\n",
       "   Unemployment  IsHoliday Type    Size  \n",
       "0         8.106      False    A  151315  \n",
       "1         8.106       True    A  151315  \n",
       "2         8.106      False    A  151315  \n",
       "3         8.106      False    A  151315  \n",
       "4         8.106      False    A  151315  "
      ]
     },
     "execution_count": 15,
     "metadata": {},
     "output_type": "execute_result"
    }
   ],
   "source": [
    "df.head()"
   ]
  },
  {
   "cell_type": "markdown",
   "metadata": {
    "colab": {},
    "colab_type": "code",
    "id": "_Wx2tM7FkcYW"
   },
   "source": [
    "Notre combinaison s'est bien déroulée en joignant selon la colonne Store."
   ]
  },
  {
   "cell_type": "markdown",
   "metadata": {
    "colab_type": "text",
    "id": "PIOaJ3I-qrio"
   },
   "source": [
    "## 3 - Analyse rapide\n"
   ]
  },
  {
   "cell_type": "markdown",
   "metadata": {
    "colab_type": "text",
    "id": "NuDMiWuuk3Zi"
   },
   "source": [
    "> 3.1 Quel est le nombre de lignes de `df` ? Son nombre de colonnes ?"
   ]
  },
  {
   "cell_type": "code",
   "execution_count": 16,
   "metadata": {
    "ExecuteTime": {
     "end_time": "2020-05-13T13:15:28.547478Z",
     "start_time": "2020-05-13T13:15:28.540164Z"
    },
    "colab": {},
    "colab_type": "code",
    "id": "Trv0qoU5lACt"
   },
   "outputs": [
    {
     "name": "stdout",
     "output_type": "stream",
     "text": [
      "Nombre de lignes : 6435\n",
      "Nombre de colonnes : 10\n"
     ]
    }
   ],
   "source": [
    "print(\"Nombre de lignes :\", df.shape[0])\n",
    "print(\"Nombre de colonnes :\", df.shape[1])"
   ]
  },
  {
   "cell_type": "markdown",
   "metadata": {
    "colab_type": "text",
    "id": "ZrnIqDHolr4x"
   },
   "source": [
    "> 3.2 Existe-t-il des lignes dupliquées (méthode `duplicated`) ; dans l'affirmative combien ? "
   ]
  },
  {
   "cell_type": "markdown",
   "metadata": {},
   "source": [
    "L'utilisation du .sum() renvoie le nombre de lignes dupliquées car la méthode duplicated renvoie un True soit un 1 si la ligne est duppliquée et un False soit un 0 sinon : en sommant nous obtenons donc le nombre de duplicats, et dans notre cas nous avons un résultat nul ce qui traduit de l'absence de 1 soit de l'absence de ligne dupliquée."
   ]
  },
  {
   "cell_type": "code",
   "execution_count": 23,
   "metadata": {
    "ExecuteTime": {
     "end_time": "2020-05-13T13:20:03.877216Z",
     "start_time": "2020-05-13T13:20:03.859067Z"
    },
    "colab": {},
    "colab_type": "code",
    "id": "gf8HWxrUeDDv"
   },
   "outputs": [
    {
     "data": {
      "text/plain": [
       "0"
      ]
     },
     "execution_count": 23,
     "metadata": {},
     "output_type": "execute_result"
    }
   ],
   "source": [
    "df.duplicated().sum()"
   ]
  },
  {
   "cell_type": "markdown",
   "metadata": {
    "colab_type": "text",
    "id": "x5BM4b0VrESB"
   },
   "source": [
    "> 3.3 Quels sont les types des colonnes `Date`, `Temperature`, `IsHoliday` et `Size` ?\n"
   ]
  },
  {
   "cell_type": "code",
   "execution_count": 25,
   "metadata": {
    "ExecuteTime": {
     "end_time": "2020-05-13T13:21:35.783952Z",
     "start_time": "2020-05-13T13:21:35.772795Z"
    },
    "colab": {},
    "colab_type": "code",
    "id": "HlV3JgdErKkg"
   },
   "outputs": [
    {
     "data": {
      "text/plain": [
       "Store             int64\n",
       "Date             object\n",
       "Weekly_Sales    float64\n",
       "Temperature     float64\n",
       "Fuel_Price      float64\n",
       "CPI             float64\n",
       "Unemployment    float64\n",
       "IsHoliday          bool\n",
       "Type             object\n",
       "Size              int64\n",
       "dtype: object"
      ]
     },
     "execution_count": 25,
     "metadata": {},
     "output_type": "execute_result"
    }
   ],
   "source": [
    "df.dtypes"
   ]
  },
  {
   "cell_type": "markdown",
   "metadata": {
    "colab_type": "text",
    "id": "0UY_0kMzl5LT"
   },
   "source": [
    "> 3.4 Existe-t-il des données manquantes ; dans l'affirmative combien ? "
   ]
  },
  {
   "cell_type": "markdown",
   "metadata": {},
   "source": [
    "La méthode isna renvoie True (soit 1) lorsqu'il y a une donnée manquante. De la même façon qu'à la question précédente, nous réalisons une somme sur les lignes puis sur les colonnes (somme des 0 et des 1) qui nous renvoie donc le nombre de 1 donc de données manquantes dans df."
   ]
  },
  {
   "cell_type": "code",
   "execution_count": 27,
   "metadata": {
    "ExecuteTime": {
     "end_time": "2020-05-13T13:22:40.905601Z",
     "start_time": "2020-05-13T13:22:40.893207Z"
    },
    "colab": {},
    "colab_type": "code",
    "id": "atvmzG6VmGFW"
   },
   "outputs": [
    {
     "data": {
      "text/plain": [
       "0"
      ]
     },
     "execution_count": 27,
     "metadata": {},
     "output_type": "execute_result"
    }
   ],
   "source": [
    "df.isna().sum().sum()"
   ]
  },
  {
   "cell_type": "markdown",
   "metadata": {
    "colab_type": "text",
    "id": "3hWg7gvbmd9Q"
   },
   "source": [
    "> 3.5 Quelles sont les natures des différentes variables ? Quantitative, qualitative, ordinale ?  Cocher (mettre une croix dans les \"cases\" adéquates)\n",
    "ex : \n",
    "- Couleur : : [ ] quantitative [x] qualitative [ ] ordinale  "
   ]
  },
  {
   "cell_type": "code",
   "execution_count": 28,
   "metadata": {
    "ExecuteTime": {
     "end_time": "2020-05-13T13:25:10.822903Z",
     "start_time": "2020-05-13T13:25:10.801748Z"
    },
    "scrolled": true
   },
   "outputs": [
    {
     "data": {
      "text/html": [
       "<div>\n",
       "<style scoped>\n",
       "    .dataframe tbody tr th:only-of-type {\n",
       "        vertical-align: middle;\n",
       "    }\n",
       "\n",
       "    .dataframe tbody tr th {\n",
       "        vertical-align: top;\n",
       "    }\n",
       "\n",
       "    .dataframe thead th {\n",
       "        text-align: right;\n",
       "    }\n",
       "</style>\n",
       "<table border=\"1\" class=\"dataframe\">\n",
       "  <thead>\n",
       "    <tr style=\"text-align: right;\">\n",
       "      <th></th>\n",
       "      <th>Store</th>\n",
       "      <th>Date</th>\n",
       "      <th>Weekly_Sales</th>\n",
       "      <th>Temperature</th>\n",
       "      <th>Fuel_Price</th>\n",
       "      <th>CPI</th>\n",
       "      <th>Unemployment</th>\n",
       "      <th>IsHoliday</th>\n",
       "      <th>Type</th>\n",
       "      <th>Size</th>\n",
       "    </tr>\n",
       "  </thead>\n",
       "  <tbody>\n",
       "    <tr>\n",
       "      <th>0</th>\n",
       "      <td>1</td>\n",
       "      <td>2010-02-05</td>\n",
       "      <td>1643690.90</td>\n",
       "      <td>42.31</td>\n",
       "      <td>2.572</td>\n",
       "      <td>211.096358</td>\n",
       "      <td>8.106</td>\n",
       "      <td>False</td>\n",
       "      <td>A</td>\n",
       "      <td>151315</td>\n",
       "    </tr>\n",
       "    <tr>\n",
       "      <th>1</th>\n",
       "      <td>1</td>\n",
       "      <td>2010-02-12</td>\n",
       "      <td>1641957.44</td>\n",
       "      <td>38.51</td>\n",
       "      <td>2.548</td>\n",
       "      <td>211.242170</td>\n",
       "      <td>8.106</td>\n",
       "      <td>True</td>\n",
       "      <td>A</td>\n",
       "      <td>151315</td>\n",
       "    </tr>\n",
       "    <tr>\n",
       "      <th>2</th>\n",
       "      <td>1</td>\n",
       "      <td>2010-02-19</td>\n",
       "      <td>1611968.17</td>\n",
       "      <td>39.93</td>\n",
       "      <td>2.514</td>\n",
       "      <td>211.289143</td>\n",
       "      <td>8.106</td>\n",
       "      <td>False</td>\n",
       "      <td>A</td>\n",
       "      <td>151315</td>\n",
       "    </tr>\n",
       "    <tr>\n",
       "      <th>3</th>\n",
       "      <td>1</td>\n",
       "      <td>2010-02-26</td>\n",
       "      <td>1409727.59</td>\n",
       "      <td>46.63</td>\n",
       "      <td>2.561</td>\n",
       "      <td>211.319643</td>\n",
       "      <td>8.106</td>\n",
       "      <td>False</td>\n",
       "      <td>A</td>\n",
       "      <td>151315</td>\n",
       "    </tr>\n",
       "    <tr>\n",
       "      <th>4</th>\n",
       "      <td>1</td>\n",
       "      <td>2010-03-05</td>\n",
       "      <td>1554806.68</td>\n",
       "      <td>46.50</td>\n",
       "      <td>2.625</td>\n",
       "      <td>211.350143</td>\n",
       "      <td>8.106</td>\n",
       "      <td>False</td>\n",
       "      <td>A</td>\n",
       "      <td>151315</td>\n",
       "    </tr>\n",
       "  </tbody>\n",
       "</table>\n",
       "</div>"
      ],
      "text/plain": [
       "   Store        Date  Weekly_Sales  Temperature  Fuel_Price         CPI  \\\n",
       "0      1  2010-02-05    1643690.90        42.31       2.572  211.096358   \n",
       "1      1  2010-02-12    1641957.44        38.51       2.548  211.242170   \n",
       "2      1  2010-02-19    1611968.17        39.93       2.514  211.289143   \n",
       "3      1  2010-02-26    1409727.59        46.63       2.561  211.319643   \n",
       "4      1  2010-03-05    1554806.68        46.50       2.625  211.350143   \n",
       "\n",
       "   Unemployment  IsHoliday Type    Size  \n",
       "0         8.106      False    A  151315  \n",
       "1         8.106       True    A  151315  \n",
       "2         8.106      False    A  151315  \n",
       "3         8.106      False    A  151315  \n",
       "4         8.106      False    A  151315  "
      ]
     },
     "execution_count": 28,
     "metadata": {},
     "output_type": "execute_result"
    }
   ],
   "source": [
    "df.head()"
   ]
  },
  {
   "cell_type": "markdown",
   "metadata": {
    "colab_type": "text",
    "id": "j2Dp6lpAmtNY"
   },
   "source": [
    "> - 'Store' : [ ] quantitative [x] qualitative [ ] ordinale  \n",
    "> - 'Date' : [ ] quantitative [ ] qualitative [x] ordinale  \n",
    "> - 'Weekly_Sales' : [x] quantitative [ ] qualitative [ ] ordinale  \n",
    "> - 'Temperature' : [x] quantitative [ ] qualitative [ ] ordinale  \n",
    "> - 'Fuel_Price' : [x] quantitative [ ] qualitative [ ] ordinale  \n",
    "> - 'CPI' : [x] quantitative [ ] qualitative [ ] ordinale  \n",
    "> - 'Unemployment' : [x] quantitative [ ] qualitative [ ] ordinale  \n",
    "> - 'IsHoliday' : [ ] quantitative [x] qualitative [ ] ordinale  \n",
    "> - 'Type' : [ ] quantitative [x] qualitative [ ] ordinale  \n",
    "> -'Size' : [x] quantitative [ ] qualitative [ ] ordinale  "
   ]
  },
  {
   "cell_type": "markdown",
   "metadata": {
    "colab_type": "text",
    "id": "aCa4mNvXWUTh"
   },
   "source": [
    "La variable `Date`  est bien évidemment une variable de type date.. qui n'est pas forcément reconnue comme cela. Exécuter la ligne suivante pour forcer le type"
   ]
  },
  {
   "cell_type": "code",
   "execution_count": 29,
   "metadata": {
    "ExecuteTime": {
     "end_time": "2020-05-13T13:41:24.915002Z",
     "start_time": "2020-05-13T13:41:23.948580Z"
    },
    "colab": {},
    "colab_type": "code",
    "id": "4kUgZ_7YWkRb"
   },
   "outputs": [],
   "source": [
    "df['Date'] = df['Date'].apply(pd.to_datetime)"
   ]
  },
  {
   "cell_type": "code",
   "execution_count": 31,
   "metadata": {
    "ExecuteTime": {
     "end_time": "2020-05-13T13:41:42.935991Z",
     "start_time": "2020-05-13T13:41:42.925608Z"
    }
   },
   "outputs": [
    {
     "data": {
      "text/plain": [
       "Store                    int64\n",
       "Date            datetime64[ns]\n",
       "Weekly_Sales           float64\n",
       "Temperature            float64\n",
       "Fuel_Price             float64\n",
       "CPI                    float64\n",
       "Unemployment           float64\n",
       "IsHoliday                 bool\n",
       "Type                    object\n",
       "Size                     int64\n",
       "dtype: object"
      ]
     },
     "execution_count": 31,
     "metadata": {},
     "output_type": "execute_result"
    }
   ],
   "source": [
    "df.dtypes"
   ]
  },
  {
   "cell_type": "markdown",
   "metadata": {},
   "source": [
    "Le changement s'est bien déroulé."
   ]
  },
  {
   "cell_type": "markdown",
   "metadata": {
    "colab_type": "text",
    "id": "hJEMCkjlnzjJ"
   },
   "source": [
    "## 4 - Valeurs manquantes"
   ]
  },
  {
   "cell_type": "markdown",
   "metadata": {
    "colab_type": "text",
    "id": "L0XIwFt2oGhZ"
   },
   "source": [
    "La fonction suivante va permettre, pour les besoins du sujet, d'ajouter quelques valeurs manquantes "
   ]
  },
  {
   "cell_type": "code",
   "execution_count": 32,
   "metadata": {
    "ExecuteTime": {
     "end_time": "2020-05-13T13:42:18.768202Z",
     "start_time": "2020-05-13T13:42:18.711827Z"
    },
    "colab": {},
    "colab_type": "code",
    "id": "NM7NK5PkoEUb"
   },
   "outputs": [],
   "source": [
    "def addNans(df,nbNans, seed=None):\n",
    "    # Randomly adds (less than) nbNans nans in df\n",
    "    nx,ny = df.shape\n",
    "    np.random.seed(seed)\n",
    "    df2=df.copy()\n",
    "    for k in range(nbNans):\n",
    "        df2.iloc[np.random.randint(0,high=nx, size=1), \n",
    "                         np.random.randint(0, high=ny, size=1)] = np.nan\n",
    "    return df2"
   ]
  },
  {
   "cell_type": "code",
   "execution_count": 33,
   "metadata": {
    "ExecuteTime": {
     "end_time": "2020-05-13T13:42:20.916241Z",
     "start_time": "2020-05-13T13:42:20.835755Z"
    },
    "colab": {},
    "colab_type": "code",
    "id": "khMTywBQoY8Y"
   },
   "outputs": [
    {
     "name": "stdout",
     "output_type": "stream",
     "text": [
      "347295.60000000003 False 6.433\n"
     ]
    }
   ],
   "source": [
    "df2 = addNans(df,12, seed=SEED)\n",
    "\n",
    "nans = pd.isnull(df2).to_numpy().nonzero()\n",
    "nan1 = nans[0][0], nans[1][0]\n",
    "nan2 = nans[0][1], nans[1][1]\n",
    "nan3 = nans[0][2], nans[1][2]\n",
    "\n",
    "print(df.iloc[nan1], df.iloc[nan2], df.iloc[nan3])"
   ]
  },
  {
   "cell_type": "markdown",
   "metadata": {},
   "source": [
    "A présent nous avons 12 NaN aléatoirement réparties dans le dataframe df2."
   ]
  },
  {
   "cell_type": "markdown",
   "metadata": {
    "colab_type": "text",
    "id": "5tTfZjXYppCI"
   },
   "source": [
    "### 4.1 Nombre de NaN\n",
    "\n",
    "> 4.1 Combien `df2` contient-il de NaN au total ?  Combien contient-il de NaN dans la colonne `Temperature`, dans la colonne `Type` ? (utiliser `.isna()` et `.sum()`.)"
   ]
  },
  {
   "cell_type": "code",
   "execution_count": 36,
   "metadata": {
    "ExecuteTime": {
     "end_time": "2020-05-13T13:44:44.022015Z",
     "start_time": "2020-05-13T13:44:44.012845Z"
    },
    "colab": {},
    "colab_type": "code",
    "id": "DiNSvmEFpVyo"
   },
   "outputs": [
    {
     "name": "stdout",
     "output_type": "stream",
     "text": [
      "Il y a au total :  12 NaN\n"
     ]
    }
   ],
   "source": [
    "print(\"Il y a au total : \", df2.isna().sum().sum(), \"NaN\")"
   ]
  },
  {
   "cell_type": "code",
   "execution_count": 38,
   "metadata": {
    "ExecuteTime": {
     "end_time": "2020-05-13T13:45:26.878305Z",
     "start_time": "2020-05-13T13:45:26.868697Z"
    }
   },
   "outputs": [
    {
     "data": {
      "text/plain": [
       "Store           0\n",
       "Date            1\n",
       "Weekly_Sales    3\n",
       "Temperature     0\n",
       "Fuel_Price      1\n",
       "CPI             1\n",
       "Unemployment    3\n",
       "IsHoliday       2\n",
       "Type            1\n",
       "Size            0\n",
       "dtype: int64"
      ]
     },
     "execution_count": 38,
     "metadata": {},
     "output_type": "execute_result"
    }
   ],
   "source": [
    "df2.isna().sum() # pour chaque variable"
   ]
  },
  {
   "cell_type": "code",
   "execution_count": 42,
   "metadata": {
    "ExecuteTime": {
     "end_time": "2020-05-13T13:46:50.887948Z",
     "start_time": "2020-05-13T13:46:50.879067Z"
    },
    "colab": {},
    "colab_type": "code",
    "id": "Eas0__phz7aq"
   },
   "outputs": [],
   "source": [
    "# Position des nans (pour le test qui suit)\n",
    "nans = pd.isnull(df2).to_numpy().nonzero()\n",
    "nan1 = nans[0][0], nans[1][0]\n",
    "nan2 = nans[0][1], nans[1][1]\n",
    "nan3 = nans[0][2], nans[1][2]"
   ]
  },
  {
   "cell_type": "code",
   "execution_count": 40,
   "metadata": {
    "ExecuteTime": {
     "end_time": "2020-05-13T13:46:07.026711Z",
     "start_time": "2020-05-13T13:46:07.021271Z"
    },
    "colab": {},
    "colab_type": "code",
    "id": "lXcDHmGGAJjt"
   },
   "outputs": [
    {
     "name": "stdout",
     "output_type": "stream",
     "text": [
      "347295.60000000003 False 6.433\n"
     ]
    }
   ],
   "source": [
    "print(df.iloc[nan1], df.iloc[nan2], df.iloc[nan3])"
   ]
  },
  {
   "cell_type": "markdown",
   "metadata": {},
   "source": [
    "Le print nous donne 3 valeurs qui ont été remplacées par des NaN !"
   ]
  },
  {
   "cell_type": "markdown",
   "metadata": {
    "colab_type": "text",
    "id": "lHJY4O40q6Jb"
   },
   "source": [
    "### 4.2 Imputation \n",
    "\n",
    "Vous allez imputer ces valeurs manquantes en utilisant d'une part la méthode `fillna` de pandas, d'autre part une imputation par KNN. \n",
    "L'imputation par kNN de sklearn ne fonctionne pas (actuellement) pour les données non numériques. Vous remplacerez donc les données catégorielles en utilisant la méthode `fillna` (avec l'option \"ffill\") et les données `quantitatives` par kNN. "
   ]
  },
  {
   "cell_type": "code",
   "execution_count": 43,
   "metadata": {
    "ExecuteTime": {
     "end_time": "2020-05-13T13:50:14.380139Z",
     "start_time": "2020-05-13T13:50:14.375922Z"
    },
    "colab": {},
    "colab_type": "code",
    "id": "Dcz10zJlyiqh"
   },
   "outputs": [],
   "source": [
    "quanti = ['Weekly_Sales', 'Temperature', 'Fuel_Price', 'CPI',  'Unemployment', 'Size']\n",
    "quali = ['Store', 'Date', 'IsHoliday', 'Type']"
   ]
  },
  {
   "cell_type": "markdown",
   "metadata": {
    "colab_type": "text",
    "id": "sJQznnnz3Vny"
   },
   "source": [
    "### 4.2.1 Variables qualitatives"
   ]
  },
  {
   "cell_type": "code",
   "execution_count": 44,
   "metadata": {
    "ExecuteTime": {
     "end_time": "2020-05-13T13:50:45.372511Z",
     "start_time": "2020-05-13T13:50:45.351884Z"
    },
    "colab": {},
    "colab_type": "code",
    "id": "A6zkOhL_y-bw"
   },
   "outputs": [],
   "source": [
    "df2[quali] = df2[quali].fillna(method = \"ffill\")"
   ]
  },
  {
   "cell_type": "code",
   "execution_count": 47,
   "metadata": {
    "ExecuteTime": {
     "end_time": "2020-05-13T13:51:34.595758Z",
     "start_time": "2020-05-13T13:51:34.580975Z"
    }
   },
   "outputs": [
    {
     "data": {
      "text/plain": [
       "0"
      ]
     },
     "execution_count": 47,
     "metadata": {},
     "output_type": "execute_result"
    }
   ],
   "source": [
    "df2[quali].isna().sum().sum()"
   ]
  },
  {
   "cell_type": "markdown",
   "metadata": {},
   "source": [
    "Plus de NaN !"
   ]
  },
  {
   "cell_type": "markdown",
   "metadata": {
    "colab_type": "text",
    "id": "Vfk3ezCx3ieJ"
   },
   "source": [
    "### 4.2.2 Variables quantitatives"
   ]
  },
  {
   "cell_type": "markdown",
   "metadata": {
    "colab_type": "text",
    "id": "tgm1YLOA4Pvk"
   },
   "source": [
    "**Normalisation.** On doit commencer par normaliser les données avant d'utiliser une technique de type KNN. Pour cela, importez `StandardScaler` et mettez le en oeuvre pour mettre à jour `df2[quanti]`"
   ]
  },
  {
   "cell_type": "code",
   "execution_count": 49,
   "metadata": {
    "ExecuteTime": {
     "end_time": "2020-05-13T13:56:31.328645Z",
     "start_time": "2020-05-13T13:56:31.325116Z"
    },
    "colab": {},
    "colab_type": "code",
    "id": "eEiraGi40qK0"
   },
   "outputs": [],
   "source": [
    "from sklearn.preprocessing import StandardScaler"
   ]
  },
  {
   "cell_type": "code",
   "execution_count": 50,
   "metadata": {
    "ExecuteTime": {
     "end_time": "2020-05-13T13:56:31.756898Z",
     "start_time": "2020-05-13T13:56:31.737132Z"
    },
    "colab": {},
    "colab_type": "code",
    "id": "C-ZQBGdD91ZQ"
   },
   "outputs": [],
   "source": [
    "sc = StandardScaler()\n",
    "df2[quanti] =  sc.fit_transform(df2[quanti])"
   ]
  },
  {
   "cell_type": "markdown",
   "metadata": {
    "colab_type": "text",
    "id": "Ko8qvJC0CyOC"
   },
   "source": [
    "> 4.2 Quelle est la valeur trouvée, après normalisation, à la position [1227, 'Temperature'] ?"
   ]
  },
  {
   "cell_type": "code",
   "execution_count": 57,
   "metadata": {
    "ExecuteTime": {
     "end_time": "2020-05-13T13:59:11.911370Z",
     "start_time": "2020-05-13T13:59:11.902163Z"
    },
    "colab": {},
    "colab_type": "code",
    "id": "r1BHMrOyDEKF"
   },
   "outputs": [
    {
     "data": {
      "text/plain": [
       "0.812547393212405"
      ]
     },
     "execution_count": 57,
     "metadata": {},
     "output_type": "execute_result"
    }
   ],
   "source": [
    "df2.iloc[1227][\"Temperature\"]"
   ]
  },
  {
   "cell_type": "markdown",
   "metadata": {
    "colab_type": "text",
    "id": "60RTg-qzY4Vu"
   },
   "source": [
    "> 4.3 Quelle est la valeur trouvée, après normalisation, à la position [2134, 'CPI'] ?"
   ]
  },
  {
   "cell_type": "code",
   "execution_count": 58,
   "metadata": {
    "ExecuteTime": {
     "end_time": "2020-05-13T14:00:19.927133Z",
     "start_time": "2020-05-13T14:00:19.919826Z"
    },
    "colab": {},
    "colab_type": "code",
    "id": "r1BHMrOyDEKF"
   },
   "outputs": [
    {
     "data": {
      "text/plain": [
       "-0.8483779981349223"
      ]
     },
     "execution_count": 58,
     "metadata": {},
     "output_type": "execute_result"
    }
   ],
   "source": [
    "df2.iloc[2134][\"CPI\"]"
   ]
  },
  {
   "cell_type": "markdown",
   "metadata": {
    "colab_type": "text",
    "id": "YD4JJI52FMhd"
   },
   "source": [
    "\n",
    "**Remarque.** Pour des questions d'interprétation des résultats et analyse des graphiques, on reviendra ci-dessous à la représentation initiale par `sc.inverse_transform`. Il pourra éventuellement être utile, si la méthode que vous utiliserez le requiert, de refaire une normalisation. "
   ]
  },
  {
   "cell_type": "markdown",
   "metadata": {
    "colab_type": "text",
    "id": "BcVAKagU9vJL"
   },
   "source": [
    "**Imputation**"
   ]
  },
  {
   "cell_type": "code",
   "execution_count": 60,
   "metadata": {
    "ExecuteTime": {
     "end_time": "2020-05-13T14:05:51.799242Z",
     "start_time": "2020-05-13T14:05:51.794580Z"
    },
    "colab": {},
    "colab_type": "code",
    "id": "dh0EZVeTq0bP"
   },
   "outputs": [],
   "source": [
    "from sklearn.impute import KNNImputer"
   ]
  },
  {
   "cell_type": "code",
   "execution_count": 61,
   "metadata": {
    "ExecuteTime": {
     "end_time": "2020-05-13T14:05:52.292257Z",
     "start_time": "2020-05-13T14:05:52.288719Z"
    },
    "colab": {},
    "colab_type": "code",
    "id": "VeHCR4f9qKvq"
   },
   "outputs": [],
   "source": [
    "impute = KNNImputer(missing_values = np.nan ,n_neighbors = 5)"
   ]
  },
  {
   "cell_type": "code",
   "execution_count": 62,
   "metadata": {
    "ExecuteTime": {
     "end_time": "2020-05-13T14:05:52.913327Z",
     "start_time": "2020-05-13T14:05:52.864769Z"
    },
    "colab": {},
    "colab_type": "code",
    "id": "44UMRADHsBI1"
   },
   "outputs": [],
   "source": [
    "impute = impute.fit(df2[quanti])\n",
    "df2[quanti] = impute.transform(df2[quanti])"
   ]
  },
  {
   "cell_type": "code",
   "execution_count": 63,
   "metadata": {
    "ExecuteTime": {
     "end_time": "2020-05-13T14:05:53.761122Z",
     "start_time": "2020-05-13T14:05:53.745828Z"
    },
    "colab": {},
    "colab_type": "code",
    "id": "a1C8HrQQigYS"
   },
   "outputs": [],
   "source": [
    "df2[quanti] = sc.inverse_transform(df2[quanti])  # on se remet sur l'échelle initiale des données"
   ]
  },
  {
   "cell_type": "markdown",
   "metadata": {
    "colab_type": "text",
    "id": "JgW1pPDsbt8D"
   },
   "source": [
    "> 4.4 Portez la valeur de remplacement de nan1 dans le questionnaire."
   ]
  },
  {
   "cell_type": "code",
   "execution_count": 64,
   "metadata": {
    "ExecuteTime": {
     "end_time": "2020-05-13T14:06:23.154055Z",
     "start_time": "2020-05-13T14:06:23.148114Z"
    },
    "colab": {},
    "colab_type": "code",
    "id": "H5c1UQ6lxisi"
   },
   "outputs": [
    {
     "name": "stdout",
     "output_type": "stream",
     "text": [
      "Le nan1, de valeur initiale 347295.60000000003, a été remplacé par 353342.4940000002\n",
      "Portez la valeur de remplacement dans le questionnaire\n"
     ]
    }
   ],
   "source": [
    "print(\"Le nan1, de valeur initiale {}, a été remplacé par {}\".format(df.iloc[nan1], df2.iloc[nan1] ))\n",
    "print(\"Portez la valeur de remplacement dans le questionnaire\")"
   ]
  },
  {
   "cell_type": "markdown",
   "metadata": {
    "colab_type": "text",
    "id": "oUTZ3n_9b-MT"
   },
   "source": [
    "> 4.5 Portez la valeur de remplacement de nan2 dans le questionnaire."
   ]
  },
  {
   "cell_type": "code",
   "execution_count": 65,
   "metadata": {
    "ExecuteTime": {
     "end_time": "2020-05-13T14:07:17.185384Z",
     "start_time": "2020-05-13T14:07:17.180479Z"
    },
    "colab": {},
    "colab_type": "code",
    "id": "ZUMZwdIl2T7S",
    "scrolled": true
   },
   "outputs": [
    {
     "name": "stdout",
     "output_type": "stream",
     "text": [
      "Le nan2, de valeur initiale  False, a été remplacé par 1.0\n",
      "Portez la valeur de remplacement dans le questionnaire\n"
     ]
    }
   ],
   "source": [
    "print(\"Le nan2, de valeur initiale  {}, a été remplacé par {}\".format(df.iloc[nan2], df2.iloc[nan2] ))\n",
    "print(\"Portez la valeur de remplacement dans le questionnaire\")"
   ]
  },
  {
   "cell_type": "markdown",
   "metadata": {},
   "source": [
    "Or nous devions obtenir un 0.0 s'agissant d'un booléen. Il s'agit donc ici d'une erreur imputable au KNN ou à la standardisation. Nous pouvons raisonnablement supposer qu'il s'agisse d'une \"mauvaise interprétation du type\"(pris comme un float au lieu d'un bool peut être), ou tout simplement dû à un choix du nombre de voisins non optimal."
   ]
  },
  {
   "cell_type": "markdown",
   "metadata": {
    "colab_type": "text",
    "id": "RfVK_y1XcEDc"
   },
   "source": [
    "> 4.6 Portez la valeur de remplacement de nan3 dans le questionnaire."
   ]
  },
  {
   "cell_type": "code",
   "execution_count": 66,
   "metadata": {
    "ExecuteTime": {
     "end_time": "2020-05-13T14:11:49.042532Z",
     "start_time": "2020-05-13T14:11:49.037292Z"
    },
    "colab": {},
    "colab_type": "code",
    "id": "6fAxVik7_7KF"
   },
   "outputs": [
    {
     "name": "stdout",
     "output_type": "stream",
     "text": [
      "Le nan3, de valeur initiale  6.433, a été remplacé par 7.125\n",
      "Portez la valeur de remplacement dans le questionnaire\n"
     ]
    }
   ],
   "source": [
    "print(\"Le nan3, de valeur initiale  {}, a été remplacé par {}\".format(df.iloc[nan3], df2.iloc[nan3] ))\n",
    "print(\"Portez la valeur de remplacement dans le questionnaire\")"
   ]
  },
  {
   "cell_type": "markdown",
   "metadata": {},
   "source": [
    "Erreur de résultat (écart important) surement dû à un mauvais choix du nombre de voisins. "
   ]
  },
  {
   "cell_type": "markdown",
   "metadata": {
    "colab_type": "text",
    "id": "QfoTip6NN50i"
   },
   "source": [
    "## 5 - Evaluations graphiques"
   ]
  },
  {
   "cell_type": "markdown",
   "metadata": {
    "colab_type": "text",
    "id": "9V9pzXmKN97D"
   },
   "source": [
    "### 5.1 Matrice de corrélation\n",
    "\n",
    "On considère uniquement les variables quantitatives\n"
   ]
  },
  {
   "cell_type": "code",
   "execution_count": 67,
   "metadata": {
    "ExecuteTime": {
     "end_time": "2020-05-13T14:14:20.934727Z",
     "start_time": "2020-05-13T14:14:20.928503Z"
    },
    "colab": {},
    "colab_type": "code",
    "id": "X9NwCuyEORa7"
   },
   "outputs": [],
   "source": [
    "Quanti = df2[quanti].copy()"
   ]
  },
  {
   "cell_type": "markdown",
   "metadata": {
    "colab_type": "text",
    "id": "Cbg2xIAzOc3_"
   },
   "source": [
    "Calculer la matrice de corrélation et la représenter sous la forme d'une heatmap (`sns.heatmap(...)` )\n"
   ]
  },
  {
   "cell_type": "code",
   "execution_count": 71,
   "metadata": {
    "ExecuteTime": {
     "end_time": "2020-05-13T14:17:54.247599Z",
     "start_time": "2020-05-13T14:17:53.767281Z"
    },
    "colab": {},
    "colab_type": "code",
    "id": "GwxmWBLeVYzR"
   },
   "outputs": [
    {
     "data": {
      "text/plain": [
       "Text(0.5, 1, 'Correlation Matrix')"
      ]
     },
     "execution_count": 71,
     "metadata": {},
     "output_type": "execute_result"
    },
    {
     "data": {
      "image/png": "[encoded data removed]",
      "text/plain": [
       "<Figure size 432x288 with 2 Axes>"
      ]
     },
     "metadata": {
      "needs_background": "light"
     },
     "output_type": "display_data"
    }
   ],
   "source": [
    "c = Quanti.corr()\n",
    "cmap = sns.light_palette(\"Blue\", 12, as_cmap=True)\n",
    "sns.heatmap(c, annot=True, cmap = cmap)\n",
    "plt.title('Correlation Matrix', fontsize=18)"
   ]
  },
  {
   "cell_type": "markdown",
   "metadata": {
    "colab_type": "text",
    "id": "5GjBNErqOuCB"
   },
   "source": [
    "> 5.1 Donner la valeur de corrélation entre `Weekly_Sales` et `Size`. \n",
    "\n",
    "0.81\n",
    "\n",
    "> 5.2 Donner la valeur de corrélationentre `Weekly_Sales` et `Unemployment`. \n",
    "\n",
    "-0.11\n",
    "\n",
    "> 5.3 Donner la valeur de corrélation entre `CPI` et `Fuel_prize`. \n",
    "\n",
    "-0.17"
   ]
  },
  {
   "cell_type": "markdown",
   "metadata": {
    "colab_type": "text",
    "id": "xSc0D39wPw4s"
   },
   "source": [
    "### 5.2 Dépendances entre variables quantitatives et qualitatives"
   ]
  },
  {
   "cell_type": "markdown",
   "metadata": {
    "colab_type": "text",
    "id": "QxzxqKrLPWKZ"
   },
   "source": [
    "Tracer les boxplots entre les ventes `Weekly_Sales` et le type `Type` de magasin."
   ]
  },
  {
   "cell_type": "code",
   "execution_count": 74,
   "metadata": {
    "ExecuteTime": {
     "end_time": "2020-05-13T14:22:29.146512Z",
     "start_time": "2020-05-13T14:22:28.894497Z"
    },
    "colab": {},
    "colab_type": "code",
    "id": "jN8-7u3fPnOW"
   },
   "outputs": [
    {
     "data": {
      "image/png": "[encoded data removed]",
      "text/plain": [
       "<Figure size 432x288 with 1 Axes>"
      ]
     },
     "metadata": {
      "needs_background": "light"
     },
     "output_type": "display_data"
    }
   ],
   "source": [
    "_=sns.boxplot(x=df2['Type'],y=df2['Weekly_Sales'])"
   ]
  },
  {
   "cell_type": "markdown",
   "metadata": {
    "colab_type": "text",
    "id": "ev1_S4o9QHAb"
   },
   "source": [
    "> 5.4  Quel est, approximativement (et en millions), le 3e quartile pour les ventes des magasins de type B ? 1.5, 1, 0.75, 0.5 ?\n",
    "\n",
    "1.0\n",
    "\n",
    "> 5.5 Quelle est approximativement la médiane des ventes des magasins de type A ? 2, 1.5, 1, 0.75, 0.5 ?\n",
    "\n",
    "1.5"
   ]
  },
  {
   "cell_type": "markdown",
   "metadata": {
    "colab_type": "text",
    "id": "-KtIfFdGQwzS"
   },
   "source": [
    "> 5.6 Tracer les boxplots de la taille des magasins en fonction du type de ceux-ci. Quelle est approximativement la médiane de la taille des magasins pour le type B ? [175000, 150000, 120000, 100000] \n",
    "\n",
    "120000\n",
    "\n",
    "> 5.7 Que penser de la relation entre taille et type ? [Dépendance importante, un peu de corrélation, quasi indépendante]"
   ]
  },
  {
   "cell_type": "code",
   "execution_count": 75,
   "metadata": {
    "ExecuteTime": {
     "end_time": "2020-05-13T14:24:47.639386Z",
     "start_time": "2020-05-13T14:24:47.394850Z"
    },
    "scrolled": true
   },
   "outputs": [
    {
     "data": {
      "image/png": "[encoded data removed]",
      "text/plain": [
       "<Figure size 432x288 with 1 Axes>"
      ]
     },
     "metadata": {
      "needs_background": "light"
     },
     "output_type": "display_data"
    }
   ],
   "source": [
    "_=sns.boxplot(x=df2['Type'],y=df2['Size'])"
   ]
  },
  {
   "cell_type": "markdown",
   "metadata": {},
   "source": [
    "Dépendance importante car dans les tailles sont homogènes et concentrées selon les types : par exemple pour le type A la taille est grande. Pour les types A et B nous avons aussi des outliers qui influencent le boxplot, s'ils étaient retirés nous aurions un boxplot comme en C, qui représente une forte corrélation (tous les magasins de type X ont globalement la même taille)."
   ]
  },
  {
   "cell_type": "code",
   "execution_count": 76,
   "metadata": {
    "ExecuteTime": {
     "end_time": "2020-05-13T14:26:08.449963Z",
     "start_time": "2020-05-13T14:26:08.188677Z"
    },
    "scrolled": true
   },
   "outputs": [
    {
     "data": {
      "image/png": "[encoded data removed]",
      "text/plain": [
       "<Figure size 432x288 with 1 Axes>"
      ]
     },
     "metadata": {
      "needs_background": "light"
     },
     "output_type": "display_data"
    }
   ],
   "source": [
    "_ = sns.scatterplot(x='Size', y='Type', data=df2)"
   ]
  },
  {
   "cell_type": "markdown",
   "metadata": {
    "colab_type": "text",
    "id": "Ypo5SLYfSgN1"
   },
   "source": [
    "> 5.8 Tracer le boxplot de `Weekly_Sales` en fonction de `IsHoliday`. Que penser de la dépendance entre les ventes et `IsHoliday` [Forte dépendance, dépendance modérée, dépendance faible, pas de dépendance]"
   ]
  },
  {
   "cell_type": "code",
   "execution_count": 77,
   "metadata": {
    "ExecuteTime": {
     "end_time": "2020-05-13T14:31:50.508054Z",
     "start_time": "2020-05-13T14:31:50.272570Z"
    },
    "scrolled": true
   },
   "outputs": [
    {
     "data": {
      "image/png": "[encoded data removed]",
      "text/plain": [
       "<Figure size 432x288 with 1 Axes>"
      ]
     },
     "metadata": {
      "needs_background": "light"
     },
     "output_type": "display_data"
    }
   ],
   "source": [
    "_=sns.boxplot(x=df2['IsHoliday'],y=df2['Weekly_Sales'])"
   ]
  },
  {
   "cell_type": "markdown",
   "metadata": {
    "colab": {},
    "colab_type": "code",
    "id": "C8u0np-wTABl"
   },
   "source": [
    "Boxplot identiques, si nous retirions les outliers les allures seraient sans doute plus marquées."
   ]
  },
  {
   "cell_type": "code",
   "execution_count": 80,
   "metadata": {
    "ExecuteTime": {
     "end_time": "2020-05-13T14:37:09.621846Z",
     "start_time": "2020-05-13T14:37:09.367608Z"
    },
    "scrolled": true
   },
   "outputs": [
    {
     "data": {
      "image/png": "[encoded data removed]",
      "text/plain": [
       "<Figure size 432x288 with 1 Axes>"
      ]
     },
     "metadata": {
      "needs_background": "light"
     },
     "output_type": "display_data"
    }
   ],
   "source": [
    "outlier=df2[df2['Weekly_Sales']<2700000]\n",
    "_=sns.boxplot(x=outlier['IsHoliday'],y=outlier['Weekly_Sales'])"
   ]
  },
  {
   "cell_type": "markdown",
   "metadata": {},
   "source": [
    "Ca ne change pas grand chose. On dirait qu'il y a une légère dépendance mais je pense que ça n'est pas concluant et négligeable."
   ]
  },
  {
   "cell_type": "markdown",
   "metadata": {
    "colab_type": "text",
    "id": "AgyjmQl_TioI"
   },
   "source": [
    "### 5.9 - Analyse temporelle"
   ]
  },
  {
   "cell_type": "markdown",
   "metadata": {
    "colab_type": "text",
    "id": "-FIhIRh2UL6c"
   },
   "source": [
    "> 5.9.1 Tracer l'évolution des ventes au cours du temps. Pour cela, on pourrait tracer magasin par magasin (en extrayant les données correspondantes). Une autre option serait de tracer l'évolution de la moyenne des ventes (sur l'ensemble des magasins), au cours du temps. C'est cette 2e solution qui est utilisée dans `sns.lineplot(...)` que l'on va mettre en oeuvre ici. \n",
    "\n",
    "> Utiliser `sns.lineplot`, avec les paramètres corrects, pour tracer l'évolution moyenne des ventes au cours du temps.\n"
   ]
  },
  {
   "cell_type": "code",
   "execution_count": 84,
   "metadata": {
    "ExecuteTime": {
     "end_time": "2020-05-13T14:41:24.385002Z",
     "start_time": "2020-05-13T14:41:19.349472Z"
    },
    "colab": {},
    "colab_type": "code",
    "id": "76N4PLFfWxGK"
   },
   "outputs": [
    {
     "data": {
      "image/png": "[encoded data removed]",
      "text/plain": [
       "<Figure size 1152x360 with 1 Axes>"
      ]
     },
     "metadata": {
      "needs_background": "light"
     },
     "output_type": "display_data"
    }
   ],
   "source": [
    "f, ax = plt.subplots(figsize=(16,5))\n",
    "_=sns.lineplot(x=df2[\"Date\"], y = df2[\"Weekly_Sales\"],  ax=ax)"
   ]
  },
  {
   "cell_type": "markdown",
   "metadata": {
    "colab_type": "text",
    "id": "NzX2W8OuW5u-"
   },
   "source": [
    "> 5.9.2 Que penser de l'évolution des ventes au cours de l'année ? [Baisse des ventes en été, Ventes constantes mis à part le week-end, Augmentation des ventes lors des fêtes de fin d'année, grosse ventes en janvier (soldes)]\n",
    "\n",
    "Ete = entre mai et septembre (05-09)\n",
    "Ventes globalement constantes à cette période.\n",
    "\n",
    "1 mois = 4 week-ends. Pas de motif répétitif, pas de vente constante.\n",
    "\n",
    "Le pic semble être atteint pour la période précédent janvier (fêtes de fin d'année)"
   ]
  },
  {
   "cell_type": "markdown",
   "metadata": {
    "colab_type": "text",
    "id": "PTAFFCq1XXP4"
   },
   "source": [
    "## 6 - Encodage des variables\n"
   ]
  },
  {
   "cell_type": "markdown",
   "metadata": {
    "colab_type": "text",
    "id": "-OUybkg5Xw6N"
   },
   "source": [
    "### 6.1 Normalisation\n",
    "> Nous allons utiliser plus loin une régression linéaire afin d'essayer de prédire les ventes. Est-il utile de standardiser les données ? [oui, non]. Si c'est utile, refaites le, comme déjà effectué au moment de l'imputation. \n",
    "\n",
    "Non pas dans le cas d'une regression (pas d'influence)."
   ]
  },
  {
   "cell_type": "markdown",
   "metadata": {
    "colab_type": "text",
    "id": "7yNL4FdUZQ7T"
   },
   "source": [
    "**Variables qualitatives**"
   ]
  },
  {
   "cell_type": "markdown",
   "metadata": {
    "colab_type": "text",
    "id": "wtPNnTe2afyD"
   },
   "source": [
    "### 6.2 Encodage date\n",
    "\n",
    "> Il nous faut encoder les variables qualitatives. Parmi celles-ci un cas particulier avec la date, que nous pouvons retravailler afin de faire apparaitre jours, mois et années. On le fait pour vous."
   ]
  },
  {
   "cell_type": "code",
   "execution_count": 85,
   "metadata": {
    "ExecuteTime": {
     "end_time": "2020-05-13T14:48:08.874829Z",
     "start_time": "2020-05-13T14:48:08.856105Z"
    },
    "colab": {},
    "colab_type": "code",
    "id": "W-_UymgidmFD"
   },
   "outputs": [],
   "source": [
    "dfDate = pd.DataFrame()\n",
    "dfDate['Year']=df2['Date'].dt.year\n",
    "dfDate['Month']=df2['Date'].dt.month\n",
    "dfDate['Week']=df2['Date'].dt.week\n",
    "dfDate['Day']=df2['Date'].dt.day"
   ]
  },
  {
   "cell_type": "code",
   "execution_count": 125,
   "metadata": {
    "ExecuteTime": {
     "end_time": "2020-05-13T15:35:11.385392Z",
     "start_time": "2020-05-13T15:35:11.376722Z"
    }
   },
   "outputs": [
    {
     "data": {
      "text/plain": [
       "10"
      ]
     },
     "execution_count": 125,
     "metadata": {},
     "output_type": "execute_result"
    }
   ],
   "source": [
    "dfDate.iloc[3333][\"Day\"]"
   ]
  },
  {
   "cell_type": "markdown",
   "metadata": {
    "colab_type": "text",
    "id": "cDrFI9RpeFfh"
   },
   "source": [
    "### 6.4 Encodage OHE \n",
    "\n",
    ">Encoder les 3 autres variables qualitatives en one Hot. Vous pourrez utiliser soit le OneHotEncoder de sklearn, soit la méthode `pd.get_dummies` de pandas"
   ]
  },
  {
   "cell_type": "code",
   "execution_count": 86,
   "metadata": {
    "ExecuteTime": {
     "end_time": "2020-05-13T14:48:13.925494Z",
     "start_time": "2020-05-13T14:48:13.917796Z"
    },
    "colab": {},
    "colab_type": "code",
    "id": "tYf7HXCHrrJc"
   },
   "outputs": [],
   "source": [
    "df2['Store'] = df2['Store'].astype('category')   ## par précaution. Sinon il ne le reconnait pas forcément comme une catégorie"
   ]
  },
  {
   "cell_type": "markdown",
   "metadata": {},
   "source": [
    "Store, IsHolidays et Type sont qualitatives"
   ]
  },
  {
   "cell_type": "code",
   "execution_count": 88,
   "metadata": {
    "ExecuteTime": {
     "end_time": "2020-05-13T14:55:28.412423Z",
     "start_time": "2020-05-13T14:55:28.392471Z"
    },
    "colab": {},
    "colab_type": "code",
    "id": "rUYJKuzNfPAc"
   },
   "outputs": [],
   "source": [
    "Quali = pd.get_dummies(df2[['Store', 'IsHoliday', 'Type']]) # one hot encoding"
   ]
  },
  {
   "cell_type": "code",
   "execution_count": 126,
   "metadata": {
    "ExecuteTime": {
     "end_time": "2020-05-13T15:36:10.776654Z",
     "start_time": "2020-05-13T15:36:10.770289Z"
    }
   },
   "outputs": [
    {
     "data": {
      "text/plain": [
       "0.0"
      ]
     },
     "execution_count": 126,
     "metadata": {},
     "output_type": "execute_result"
    }
   ],
   "source": [
    "Quali.iloc[33][\"Type_B\"]"
   ]
  },
  {
   "cell_type": "code",
   "execution_count": 128,
   "metadata": {
    "ExecuteTime": {
     "end_time": "2020-05-13T15:36:41.171555Z",
     "start_time": "2020-05-13T15:36:41.165266Z"
    }
   },
   "outputs": [
    {
     "data": {
      "text/plain": [
       "0.0"
      ]
     },
     "execution_count": 128,
     "metadata": {},
     "output_type": "execute_result"
    }
   ],
   "source": [
    "Quali.iloc[5194][\"IsHoliday\"]"
   ]
  },
  {
   "cell_type": "code",
   "execution_count": 129,
   "metadata": {
    "ExecuteTime": {
     "end_time": "2020-05-13T15:37:05.690705Z",
     "start_time": "2020-05-13T15:37:05.684108Z"
    }
   },
   "outputs": [
    {
     "data": {
      "text/plain": [
       "0.0"
      ]
     },
     "execution_count": 129,
     "metadata": {},
     "output_type": "execute_result"
    }
   ],
   "source": [
    "Quali.iloc[402][\"Store_2\"]"
   ]
  },
  {
   "cell_type": "markdown",
   "metadata": {
    "colab_type": "text",
    "id": "Dhj8GNk_h-L4"
   },
   "source": [
    "## 7 - Régression linéaire"
   ]
  },
  {
   "cell_type": "markdown",
   "metadata": {
    "colab_type": "text",
    "id": "_Y87oRPwiEmG"
   },
   "source": [
    "### 7.1 Définir une petite fonction qui :\n",
    "- recevant un dataframe df, le nom de la variable à prédire, la taille de l'ensemble de test, retourne\n",
    "    - le modèle calculé sur l'ensemble des données\n",
    "    - le RSS, le RSE (sur l'ensemble d'apprentissage)\n",
    "    - le R2 sur l'ensemble d'apprentissage, sur l'ensemble de test"
   ]
  },
  {
   "cell_type": "code",
   "execution_count": 155,
   "metadata": {
    "ExecuteTime": {
     "end_time": "2020-05-13T16:28:43.636182Z",
     "start_time": "2020-05-13T16:28:43.625365Z"
    },
    "colab": {},
    "colab_type": "code",
    "id": "KnRhh6PrjIbW"
   },
   "outputs": [],
   "source": [
    "def my_linear_regression(df, variable_a_predire, test_size=0.2, seed=SEED):\n",
    "  \n",
    "    from sklearn.linear_model import LinearRegression\n",
    "    from sklearn.model_selection import train_test_split\n",
    "    from sklearn.metrics import r2_score\n",
    "    X = df.loc[:, df.columns != variable_a_predire]\n",
    "    y = df[variable_a_predire]\n",
    "    p = X.shape[1] #ordre du modèle\n",
    "    Xtrain, Xtest, ytrain, ytest = train_test_split(X,y,test_size=test_size,random_state=SEED)\n",
    "    Ntrain = Xtrain.shape[0] # taille de l'ensemble d'apprentissage\n",
    "    model = LinearRegression()\n",
    "    model.fit(Xtrain, ytrain) # fit du modèle retourné sur l'ensemble des données\n",
    "    y_pred_train = model.predict(Xtrain)\n",
    "    y_pred_test = model.predict(Xtest)\n",
    "    RSS = sum((ytrain-y_pred_train)**2)\n",
    "    RSE = np.sqrt(sum((ytest-y_pred_test)**2)/(Ntrain-p-1))\n",
    "    R2app = r2_score(ytrain,y_pred_train) # sur l'ensemble d'apprentissage\n",
    "    R2test = r2_score(ytest,y_pred_test) # sur l'ensemble de test\n",
    "    model.fit(X, y)\n",
    "\n",
    "    return model, RSS, RSE, R2app, R2test"
   ]
  },
  {
   "cell_type": "markdown",
   "metadata": {
    "colab_type": "text",
    "id": "QO44OINbn6rW"
   },
   "source": [
    "### 7.2 Vous cherchez donc à prédire `Weekly_Sales`. \n",
    "\n",
    "> Essayons cette prédiction uniquement à partir des données quantitatives (tableau `Quanti`), et avec une taille `test_size` de 0.2. \n"
   ]
  },
  {
   "cell_type": "code",
   "execution_count": 156,
   "metadata": {
    "ExecuteTime": {
     "end_time": "2020-05-13T16:28:44.245261Z",
     "start_time": "2020-05-13T16:28:44.223841Z"
    },
    "colab": {},
    "colab_type": "code",
    "id": "VfZQBP4bClnO"
   },
   "outputs": [
    {
     "name": "stdout",
     "output_type": "stream",
     "text": [
      "R2 sur la base d'apprentissage 0.6682000047858137\n",
      "R2 sur la base de test 0.6560663783128916\n"
     ]
    }
   ],
   "source": [
    "model, RSS, RSE, R2app, R2test = my_linear_regression(Quanti, \"Weekly_Sales\")\n",
    "print(\"R2 sur la base d'apprentissage\", R2app)\n",
    "print(\"R2 sur la base de test\", R2test)"
   ]
  },
  {
   "cell_type": "markdown",
   "metadata": {
    "colab_type": "text",
    "id": "2mQwdhsDp9IM"
   },
   "source": [
    "> Donner la valeur du R2 sur la base d'apprentissage, sur la base de test"
   ]
  },
  {
   "cell_type": "markdown",
   "metadata": {
    "colab_type": "text",
    "id": "EmmINEYPqcA4"
   },
   "source": [
    "### 7.3 Construire maintenant un nouveau tableau, `data`, \n",
    "> qui regroupe ces variables quantitatives, le tableau `dfDate`  issu de la date, et les variables qualitatives issues de l'encodage OHE `Quali`. Vous utiliserez la méthode `pd.concat`"
   ]
  },
  {
   "cell_type": "code",
   "execution_count": 159,
   "metadata": {
    "ExecuteTime": {
     "end_time": "2020-05-13T16:30:33.142821Z",
     "start_time": "2020-05-13T16:30:33.116064Z"
    },
    "colab": {},
    "colab_type": "code",
    "id": "JM55lWYaC0Cz"
   },
   "outputs": [
    {
     "data": {
      "text/html": [
       "<div>\n",
       "<style scoped>\n",
       "    .dataframe tbody tr th:only-of-type {\n",
       "        vertical-align: middle;\n",
       "    }\n",
       "\n",
       "    .dataframe tbody tr th {\n",
       "        vertical-align: top;\n",
       "    }\n",
       "\n",
       "    .dataframe thead th {\n",
       "        text-align: right;\n",
       "    }\n",
       "</style>\n",
       "<table border=\"1\" class=\"dataframe\">\n",
       "  <thead>\n",
       "    <tr style=\"text-align: right;\">\n",
       "      <th></th>\n",
       "      <th>Weekly_Sales</th>\n",
       "      <th>Temperature</th>\n",
       "      <th>Fuel_Price</th>\n",
       "      <th>CPI</th>\n",
       "      <th>Unemployment</th>\n",
       "      <th>Size</th>\n",
       "      <th>Year</th>\n",
       "      <th>Month</th>\n",
       "      <th>Week</th>\n",
       "      <th>Day</th>\n",
       "      <th>...</th>\n",
       "      <th>Store_39</th>\n",
       "      <th>Store_40</th>\n",
       "      <th>Store_41</th>\n",
       "      <th>Store_42</th>\n",
       "      <th>Store_43</th>\n",
       "      <th>Store_44</th>\n",
       "      <th>Store_45</th>\n",
       "      <th>Type_A</th>\n",
       "      <th>Type_B</th>\n",
       "      <th>Type_C</th>\n",
       "    </tr>\n",
       "  </thead>\n",
       "  <tbody>\n",
       "    <tr>\n",
       "      <th>0</th>\n",
       "      <td>1643690.90</td>\n",
       "      <td>42.31</td>\n",
       "      <td>2.572</td>\n",
       "      <td>211.096358</td>\n",
       "      <td>8.106</td>\n",
       "      <td>151315.0</td>\n",
       "      <td>2010</td>\n",
       "      <td>2</td>\n",
       "      <td>5</td>\n",
       "      <td>5</td>\n",
       "      <td>...</td>\n",
       "      <td>0</td>\n",
       "      <td>0</td>\n",
       "      <td>0</td>\n",
       "      <td>0</td>\n",
       "      <td>0</td>\n",
       "      <td>0</td>\n",
       "      <td>0</td>\n",
       "      <td>1</td>\n",
       "      <td>0</td>\n",
       "      <td>0</td>\n",
       "    </tr>\n",
       "    <tr>\n",
       "      <th>1</th>\n",
       "      <td>1641957.44</td>\n",
       "      <td>38.51</td>\n",
       "      <td>2.548</td>\n",
       "      <td>211.242170</td>\n",
       "      <td>8.106</td>\n",
       "      <td>151315.0</td>\n",
       "      <td>2010</td>\n",
       "      <td>2</td>\n",
       "      <td>6</td>\n",
       "      <td>12</td>\n",
       "      <td>...</td>\n",
       "      <td>0</td>\n",
       "      <td>0</td>\n",
       "      <td>0</td>\n",
       "      <td>0</td>\n",
       "      <td>0</td>\n",
       "      <td>0</td>\n",
       "      <td>0</td>\n",
       "      <td>1</td>\n",
       "      <td>0</td>\n",
       "      <td>0</td>\n",
       "    </tr>\n",
       "    <tr>\n",
       "      <th>2</th>\n",
       "      <td>1611968.17</td>\n",
       "      <td>39.93</td>\n",
       "      <td>2.514</td>\n",
       "      <td>211.289143</td>\n",
       "      <td>8.106</td>\n",
       "      <td>151315.0</td>\n",
       "      <td>2010</td>\n",
       "      <td>2</td>\n",
       "      <td>7</td>\n",
       "      <td>19</td>\n",
       "      <td>...</td>\n",
       "      <td>0</td>\n",
       "      <td>0</td>\n",
       "      <td>0</td>\n",
       "      <td>0</td>\n",
       "      <td>0</td>\n",
       "      <td>0</td>\n",
       "      <td>0</td>\n",
       "      <td>1</td>\n",
       "      <td>0</td>\n",
       "      <td>0</td>\n",
       "    </tr>\n",
       "    <tr>\n",
       "      <th>3</th>\n",
       "      <td>1409727.59</td>\n",
       "      <td>46.63</td>\n",
       "      <td>2.561</td>\n",
       "      <td>211.319643</td>\n",
       "      <td>8.106</td>\n",
       "      <td>151315.0</td>\n",
       "      <td>2010</td>\n",
       "      <td>2</td>\n",
       "      <td>8</td>\n",
       "      <td>26</td>\n",
       "      <td>...</td>\n",
       "      <td>0</td>\n",
       "      <td>0</td>\n",
       "      <td>0</td>\n",
       "      <td>0</td>\n",
       "      <td>0</td>\n",
       "      <td>0</td>\n",
       "      <td>0</td>\n",
       "      <td>1</td>\n",
       "      <td>0</td>\n",
       "      <td>0</td>\n",
       "    </tr>\n",
       "    <tr>\n",
       "      <th>4</th>\n",
       "      <td>1554806.68</td>\n",
       "      <td>46.50</td>\n",
       "      <td>2.625</td>\n",
       "      <td>211.350143</td>\n",
       "      <td>8.106</td>\n",
       "      <td>151315.0</td>\n",
       "      <td>2010</td>\n",
       "      <td>3</td>\n",
       "      <td>9</td>\n",
       "      <td>5</td>\n",
       "      <td>...</td>\n",
       "      <td>0</td>\n",
       "      <td>0</td>\n",
       "      <td>0</td>\n",
       "      <td>0</td>\n",
       "      <td>0</td>\n",
       "      <td>0</td>\n",
       "      <td>0</td>\n",
       "      <td>1</td>\n",
       "      <td>0</td>\n",
       "      <td>0</td>\n",
       "    </tr>\n",
       "  </tbody>\n",
       "</table>\n",
       "<p>5 rows × 59 columns</p>\n",
       "</div>"
      ],
      "text/plain": [
       "   Weekly_Sales  Temperature  Fuel_Price         CPI  Unemployment      Size  \\\n",
       "0    1643690.90        42.31       2.572  211.096358         8.106  151315.0   \n",
       "1    1641957.44        38.51       2.548  211.242170         8.106  151315.0   \n",
       "2    1611968.17        39.93       2.514  211.289143         8.106  151315.0   \n",
       "3    1409727.59        46.63       2.561  211.319643         8.106  151315.0   \n",
       "4    1554806.68        46.50       2.625  211.350143         8.106  151315.0   \n",
       "\n",
       "   Year  Month  Week  Day  ...  Store_39  Store_40  Store_41  Store_42  \\\n",
       "0  2010      2     5    5  ...         0         0         0         0   \n",
       "1  2010      2     6   12  ...         0         0         0         0   \n",
       "2  2010      2     7   19  ...         0         0         0         0   \n",
       "3  2010      2     8   26  ...         0         0         0         0   \n",
       "4  2010      3     9    5  ...         0         0         0         0   \n",
       "\n",
       "   Store_43  Store_44  Store_45  Type_A  Type_B  Type_C  \n",
       "0         0         0         0       1       0       0  \n",
       "1         0         0         0       1       0       0  \n",
       "2         0         0         0       1       0       0  \n",
       "3         0         0         0       1       0       0  \n",
       "4         0         0         0       1       0       0  \n",
       "\n",
       "[5 rows x 59 columns]"
      ]
     },
     "execution_count": 159,
     "metadata": {},
     "output_type": "execute_result"
    }
   ],
   "source": [
    "data = pd.concat([df2[quanti], dfDate, Quali], axis = 1)\n",
    "data.head()"
   ]
  },
  {
   "cell_type": "markdown",
   "metadata": {
    "colab_type": "text",
    "id": "cEYyop9RrMWK"
   },
   "source": [
    "Combien ce nouveau tableau contient-il de colonnes ?"
   ]
  },
  {
   "cell_type": "code",
   "execution_count": 160,
   "metadata": {
    "ExecuteTime": {
     "end_time": "2020-05-13T16:30:34.497947Z",
     "start_time": "2020-05-13T16:30:34.490907Z"
    },
    "colab": {},
    "colab_type": "code",
    "id": "aRzB0sh3rTvj"
   },
   "outputs": [
    {
     "data": {
      "text/plain": [
       "59"
      ]
     },
     "execution_count": 160,
     "metadata": {},
     "output_type": "execute_result"
    }
   ],
   "source": [
    "data.shape[1]"
   ]
  },
  {
   "cell_type": "markdown",
   "metadata": {
    "colab_type": "text",
    "id": "LDLlbaIHsK1Y"
   },
   "source": [
    "### 7.4 Effectuer la régression linéaire \n",
    "> avec ces dernières données. Donner la valeur du R2 sur la base d'apprentissage, sur la base de test"
   ]
  },
  {
   "cell_type": "code",
   "execution_count": 161,
   "metadata": {
    "ExecuteTime": {
     "end_time": "2020-05-13T16:30:36.276143Z",
     "start_time": "2020-05-13T16:30:36.202809Z"
    },
    "colab": {},
    "colab_type": "code",
    "id": "b78V7SQvsUYm"
   },
   "outputs": [
    {
     "name": "stdout",
     "output_type": "stream",
     "text": [
      "R2 sur la base d'apprentissage 0.9293156343454861\n",
      "R2 sur la base de test 0.9204839526122123\n"
     ]
    }
   ],
   "source": [
    "model, RSS, RSE, R2app, R2test = my_linear_regression(data, \"Weekly_Sales\")\n",
    "print(\"R2 sur la base d'apprentissage\", R2app)\n",
    "print(\"R2 sur la base de test\", R2test)"
   ]
  },
  {
   "cell_type": "markdown",
   "metadata": {
    "colab_type": "text",
    "id": "iful9bMH8rAq"
   },
   "source": [
    "## 8 - Feature engineering final"
   ]
  },
  {
   "cell_type": "markdown",
   "metadata": {
    "colab_type": "text",
    "id": "oC_8l3Jb8txx"
   },
   "source": [
    "Comme on l'a vu, il semble que les fêtes de fin d'année aient une influence sensible sur les ventes. Le graphique suivant, tracé cette fois en fonction des semaines, le montre à nouveau. "
   ]
  },
  {
   "cell_type": "code",
   "execution_count": 134,
   "metadata": {
    "ExecuteTime": {
     "end_time": "2020-05-13T15:43:08.024028Z",
     "start_time": "2020-05-13T15:43:05.413838Z"
    },
    "colab": {},
    "colab_type": "code",
    "id": "AS0b2xDd85Pa"
   },
   "outputs": [
    {
     "data": {
      "image/png": "[encoded data removed]",
      "text/plain": [
       "<Figure size 1152x360 with 1 Axes>"
      ]
     },
     "metadata": {
      "needs_background": "light"
     },
     "output_type": "display_data"
    }
   ],
   "source": [
    "f, ax = plt.subplots(figsize=(16,5))\n",
    "sns.lineplot(x='Week', y='Weekly_Sales',  data=data, ax=ax)\n",
    "_ = ax.set_xticks(range(1,53))\n",
    "plt.grid()"
   ]
  },
  {
   "cell_type": "markdown",
   "metadata": {
    "colab_type": "text",
    "id": "kqAw-hs__OHv"
   },
   "source": [
    "> ### 8.1 Définir une variable 'End_of_year_holidays' \n",
    "> qui encode cette période. L'optimum étant sans doute que cette variable vaille 1 pour les semaines 47, 49, 50 et 51 et 0 sinon.\n"
   ]
  },
  {
   "cell_type": "code",
   "execution_count": 162,
   "metadata": {
    "ExecuteTime": {
     "end_time": "2020-05-13T16:31:13.185111Z",
     "start_time": "2020-05-13T16:31:13.059712Z"
    },
    "colab": {},
    "colab_type": "code",
    "id": "LagFgQpY_2o7"
   },
   "outputs": [],
   "source": [
    "data['End_of_year_holidays'] = data.apply(lambda row: True if row['Week'] in [47, 49, 50, 51] else False, axis=1)\n",
    "data['End_of_year_holidays'] = data['End_of_year_holidays'].replace({True:1, False:0}) "
   ]
  },
  {
   "cell_type": "code",
   "execution_count": 163,
   "metadata": {
    "ExecuteTime": {
     "end_time": "2020-05-13T16:31:13.518753Z",
     "start_time": "2020-05-13T16:31:13.510536Z"
    }
   },
   "outputs": [
    {
     "data": {
      "text/plain": [
       "0.0"
      ]
     },
     "execution_count": 163,
     "metadata": {},
     "output_type": "execute_result"
    }
   ],
   "source": [
    "data.iloc[1559]['End_of_year_holidays']"
   ]
  },
  {
   "cell_type": "markdown",
   "metadata": {
    "colab_type": "text",
    "id": "Ifhlrw8T_9qP"
   },
   "source": [
    "> ### 8.2 Tester votre régression linéaire \n",
    "> A l'aide de ce dernier modèle, donner la valeur du R2 sur la base d'apprentissage et sur la base de test."
   ]
  },
  {
   "cell_type": "code",
   "execution_count": 164,
   "metadata": {
    "ExecuteTime": {
     "end_time": "2020-05-13T16:31:14.419111Z",
     "start_time": "2020-05-13T16:31:14.363644Z"
    },
    "colab": {},
    "colab_type": "code",
    "id": "ecFad3pN-wej"
   },
   "outputs": [
    {
     "name": "stdout",
     "output_type": "stream",
     "text": [
      "R2 sur la base d'apprentissage 0.9520986080355924\n",
      "R2 sur la base de test 0.9467579634714519\n"
     ]
    }
   ],
   "source": [
    "model, RSS, RSE, R2app, R2test = my_linear_regression(data, \"Weekly_Sales\")\n",
    "print(\"R2 sur la base d'apprentissage\", R2app)\n",
    "print(\"R2 sur la base de test\", R2test)"
   ]
  },
  {
   "cell_type": "code",
   "execution_count": null,
   "metadata": {},
   "outputs": [],
   "source": []
  }
 ],
 "metadata": {
  "colab": {
   "collapsed_sections": [
    "hJEMCkjlnzjJ",
    "5tTfZjXYppCI",
    "lHJY4O40q6Jb",
    "sJQznnnz3Vny",
    "Vfk3ezCx3ieJ",
    "QfoTip6NN50i",
    "9V9pzXmKN97D",
    "xSc0D39wPw4s",
    "AgyjmQl_TioI",
    "PTAFFCq1XXP4",
    "Dhj8GNk_h-L4",
    "_Y87oRPwiEmG",
    "QO44OINbn6rW",
    "EmmINEYPqcA4",
    "LDLlbaIHsK1Y",
    "iful9bMH8rAq",
    "kqAw-hs__OHv",
    "Ifhlrw8T_9qP",
    "mV7D9mo6FmY0"
   ],
   "name": "Sujet_Walmart.ipynb",
   "provenance": [],
   "toc_visible": true
  },
  "hide_input": false,
  "kernelspec": {
   "display_name": "Python 3",
   "language": "python",
   "name": "python3"
  },
  "language_info": {
   "codemirror_mode": {
    "name": "ipython",
    "version": 3
   },
   "file_extension": ".py",
   "mimetype": "text/x-python",
   "name": "python",
   "nbconvert_exporter": "python",
   "pygments_lexer": "ipython3",
   "version": "3.7.6"
  },
  "nbTranslate": {
   "displayLangs": [
    "*"
   ],
   "hotkey": "alt-t",
   "langInMainMenu": true,
   "sourceLang": "en",
   "targetLang": "fr",
   "useGoogleTranslate": true
  },
  "toc": {
   "base_numbering": 1,
   "nav_menu": {},
   "number_sections": true,
   "sideBar": true,
   "skip_h1_title": false,
   "title_cell": "Table of Contents",
   "title_sidebar": "Contents",
   "toc_cell": false,
   "toc_position": {},
   "toc_section_display": true,
   "toc_window_display": true
  },
  "varInspector": {
   "cols": {
    "lenName": 16,
    "lenType": 16,
    "lenVar": 40
   },
   "kernels_config": {
    "python": {
     "delete_cmd_postfix": "",
     "delete_cmd_prefix": "del ",
     "library": "var_list.py",
     "varRefreshCmd": "print(var_dic_list())"
    },
    "r": {
     "delete_cmd_postfix": ") ",
     "delete_cmd_prefix": "rm(",
     "library": "var_list.r",
     "varRefreshCmd": "cat(var_dic_list()) "
    }
   },
   "types_to_exclude": [
    "module",
    "function",
    "builtin_function_or_method",
    "instance",
    "_Feature"
   ],
   "window_display": false
  }
 },
 "nbformat": 4,
 "nbformat_minor": 1
}
